{
 "cells": [
  {
   "cell_type": "code",
   "execution_count": 1,
   "id": "69188eeb-f0e3-4323-b28e-e05901a1f640",
   "metadata": {},
   "outputs": [],
   "source": [
    "import os\n",
    "import subprocess\n",
    "\n",
    "input_dir = '.'\n",
    "output_dir = 'frames_4'\n",
    "os.makedirs(output_dir, exist_ok=True)\n",
    "\n",
    "for fname in os.listdir(input_dir):\n",
    "    if fname.lower().endswith('.mp4') and fname.startswith('recording_'):\n",
    "        base = fname[:-4]  # remove .mp4\n",
    "        input_path = os.path.join(input_dir, fname)\n",
    "        output_pattern = os.path.join(output_dir, f'{base}_framed_%03d.jpg')\n",
    "        cmd = ['ffmpeg', '-i', input_path, '-vf', 'fps=2', output_pattern]\n",
    "        subprocess.run(cmd)"
   ]
  },
  {
   "cell_type": "code",
   "execution_count": 2,
   "id": "3747a346-9d75-43e2-84b1-ebc65aa546e9",
   "metadata": {},
   "outputs": [],
   "source": [
    "import os\n",
    "\n",
    "frames_dir = 'frames_4'\n",
    "files = sorted([f for f in os.listdir(frames_dir) if f.lower().endswith('.jpg')])\n",
    "\n",
    "for idx, filename in enumerate(files, start=1):\n",
    "    new_name = f'new_img_{idx:02d}.jpg'\n",
    "    old_path = os.path.join(frames_dir, filename)\n",
    "    new_path = os.path.join(frames_dir, new_name)\n",
    "    os.rename(old_path, new_path)"
   ]
  },
  {
   "cell_type": "code",
   "execution_count": null,
   "id": "d39d6241-f305-4e97-8f3f-eb88c41a0e9b",
   "metadata": {},
   "outputs": [],
   "source": []
  }
 ],
 "metadata": {
  "kernelspec": {
   "display_name": "Python [conda env:base] *",
   "language": "python",
   "name": "conda-base-py"
  },
  "language_info": {
   "codemirror_mode": {
    "name": "ipython",
    "version": 3
   },
   "file_extension": ".py",
   "mimetype": "text/x-python",
   "name": "python",
   "nbconvert_exporter": "python",
   "pygments_lexer": "ipython3",
   "version": "3.12.7"
  }
 },
 "nbformat": 4,
 "nbformat_minor": 5
}
